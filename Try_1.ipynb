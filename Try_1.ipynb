{
  "cells": [
    {
      "cell_type": "code",
      "execution_count": 1,
      "id": "62e1a7ec",
      "metadata": {
        "id": "62e1a7ec"
      },
      "outputs": [
        {
          "name": "stderr",
          "output_type": "stream",
          "text": [
            "\n",
            "KeyboardInterrupt\n",
            "\n"
          ]
        }
      ],
      "source": [
        "import os\n",
        "import cv2\n",
        "import numpy as np\n",
        "import tensorflow as tf\n",
        "from tensorflow import keras\n",
        "from tensorflow.keras.initializers import GlorotUniform, Zeros\n",
        "import matplotlib.pyplot as plt"
      ]
    },
    {
      "cell_type": "code",
      "execution_count": null,
      "id": "a4ab1b08",
      "metadata": {
        "colab": {
          "base_uri": "https://localhost:8080/"
        },
        "id": "a4ab1b08",
        "outputId": "292958f9-91c1-438b-e147-81b0c3dfb5fa"
      },
      "outputs": [],
      "source": [
        "print(\"Welcome to the NeuralNine (c) Handwritten Digits Recognition v0.1\")"
      ]
    },
    {
      "cell_type": "code",
      "execution_count": null,
      "id": "cbb51d04",
      "metadata": {
        "id": "cbb51d04"
      },
      "outputs": [],
      "source": [
        "\n",
        "train_new_model = True"
      ]
    },
    {
      "cell_type": "code",
      "execution_count": null,
      "id": "d70b0e4a",
      "metadata": {
        "collapsed": true,
        "id": "d70b0e4a"
      },
      "outputs": [],
      "source": [
        "if train_new_model:\n",
        "    mnist = tf.keras.datasets.mnist\n",
        "    (X_train, y_train), (X_test, y_test) = mnist.load_data()\n",
        "\n",
        "    X_train = tf.keras.utils.normalize(X_train, axis=1)\n",
        "    X_test = tf.keras.utils.normalize(X_test, axis=1)\n",
        "\n",
        "\n",
        "    model = tf.keras.models.Sequential()\n",
        "    model.add(tf.keras.layers.Flatten())\n",
        "    model.add(tf.keras.layers.Dense(units=128, activation=\"relu\"))\n",
        "    model.add(tf.keras.layers.Dense(units=128, activation=\"relu\"))\n",
        "    model.add(tf.keras.layers.Dense(units=10, activation=\"softmax\"))\n",
        "\n",
        "\n",
        "    model.compile(optimizer='adam', loss='sparse_categorical_crossentropy', metrics=['accuracy'])\n",
        "\n",
        "\n",
        "    model.fit(X_train, y_train, epochs=5)\n",
        "\n",
        "\n",
        "    val_loss, val_acc = model.evaluate(X_test, y_test)\n",
        "    print(f\"Validation Loss: {val_loss}\")\n",
        "    print(f\"Validation Accuracy: {val_acc * 100:.2f}%\")\n",
        "\n",
        "\n",
        "    model.save('handwritten_digits.keras')\n",
        "else:\n",
        "    model = tf.keras.models.load_model('handwritten_digits.keras')\n"
      ]
    },
    {
      "cell_type": "code",
      "execution_count": null,
      "id": "62e5fb49",
      "metadata": {
        "colab": {
          "base_uri": "https://localhost:8080/",
          "height": 1000
        },
        "id": "62e5fb49",
        "outputId": "2f22cdc9-d304-4278-a466-b3dce4c4e2ce"
      },
      "outputs": [],
      "source": [
        "\n",
        "image_number = 1\n",
        "while os.path.isfile('digits/digit{}.png'.format(image_number)):\n",
        "    try:\n",
        "        img = cv2.imread('digits/digit{}.png'.format(image_number))[:,:,0]\n",
        "        img = np.invert(np.array([img]))\n",
        "        prediction = model.predict(img)\n",
        "        print(\"The number is probably a {}\".format(np.argmax(prediction)))\n",
        "        plt.imshow(img[0], cmap=plt.cm.binary)\n",
        "        plt.show()\n",
        "        image_number += 1\n",
        "    except:\n",
        "        print(\"Error reading image! Proceeding with next image...\")\n",
        "        image_number += 1"
      ]
    }
  ],
  "metadata": {
    "colab": {
      "provenance": []
    },
    "jupytext": {
      "cell_metadata_filter": "-all",
      "main_language": "python",
      "notebook_metadata_filter": "-all"
    },
    "kernelspec": {
      "display_name": "Python 3",
      "name": "python3"
    },
    "language_info": {
      "codemirror_mode": {
        "name": "ipython",
        "version": 3
      },
      "file_extension": ".py",
      "mimetype": "text/x-python",
      "name": "python",
      "nbconvert_exporter": "python",
      "pygments_lexer": "ipython3",
      "version": "3.13.1"
    }
  },
  "nbformat": 4,
  "nbformat_minor": 5
}
